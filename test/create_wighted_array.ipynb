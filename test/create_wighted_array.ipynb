{
 "cells": [
  {
   "cell_type": "code",
   "execution_count": 32,
   "metadata": {},
   "outputs": [
    {
     "name": "stdout",
     "output_type": "stream",
     "text": [
      "['', '8', '2', '', '', '', 'Scatter', '4', '', '2', '', '7', '', '', '', '', '', 'Scatter', '', '', '', '4', '7', '', '', '', '', '', '', '', '0', '', '', '', '', '', '', '', '7', '', '', '3', '', '', '', '', '', '0', '', '8', '', '', '', '', '7', '', '', '', '', '', '2', '', '', '9', '', '', '', 'Scatter', '', '', '']\n",
      "Array length: 71\n"
     ]
    }
   ],
   "source": [
    "import random\n",
    "\n",
    "def create_weighted_array(elements, array_size=71):\n",
    "\n",
    "    weighted_array = []\n",
    "\n",
    "    for element in elements:\n",
    "        name = element['Name']\n",
    "        weight = element['weightedRandomness']\n",
    "        num_times = int(weight / 100 * array_size)\n",
    "        weighted_array.extend([name] * num_times)\n",
    "    \n",
    "    if len(weighted_array) > array_size:\n",
    "        raise ValueError(\"Total Weight of elements exceeds the desired array size\")\n",
    "    elif len(weighted_array) < array_size:\n",
    "        weighted_array.extend([''] * (array_size - len(weighted_array)))\n",
    "\n",
    "    random.shuffle(weighted_array)\n",
    "    \n",
    "    return weighted_array\n",
    "\n",
    "# Example usage\n",
    "elements = [\n",
    "  {\"Name\": \"0\", \"weightedRandomness\": 3},\n",
    "    {\"Name\": \"1\", \"weightedRandomness\": 1},\n",
    "    {\"Name\": \"2\", \"weightedRandomness\": 5},\n",
    "    {\"Name\": \"3\", \"weightedRandomness\": 2},\n",
    "    {\"Name\": \"4\", \"weightedRandomness\": 4},\n",
    "    {\"Name\": \"5\", \"weightedRandomness\": 1},\n",
    "    {\"Name\": \"6\", \"weightedRandomness\": 0},\n",
    "\n",
    "    {\"Name\": \"7\", \"weightedRandomness\": 7},\n",
    "    {\"Name\": \"8\", \"weightedRandomness\": 3},\n",
    "    {\"Name\": \"9\", \"weightedRandomness\": 2},\n",
    "    {\"Name\": \"Wild\", \"weightedRandomness\": 1},\n",
    "    {\"Name\": \"Scatter\", \"weightedRandomness\": 5},\n",
    "    {\"Name\": \"Jackpot\", \"weightedRandomness\": 1},\n",
    "    {\"Name\": \"Bonus\", \"weightedRandomness\": 1}\n",
    "]\n",
    "\n",
    "weighted_array = create_weighted_array(elements)\n",
    "print(weighted_array)\n",
    "print(\"Array length:\", len(weighted_array))\n"
   ]
  },
  {
   "cell_type": "code",
   "execution_count": 29,
   "metadata": {},
   "outputs": [
    {
     "name": "stdout",
     "output_type": "stream",
     "text": [
      "['7', '', '', '', '', '3', '2', '', '', '', '', '', '7', '', '', '7', '', '', 'Scatter', '0', '', '', '', '', '', '', '2', '', '', '', '', '4', 'Scatter', '', '', '8', '', '', '', '', '', '', '', '', '9', '4', '', '', '', '', '', '', '', '', '7', '', '', '', '', '', 'Scatter', '8', '', '', '0', '', '', '', '2', '', '']\n"
     ]
    }
   ],
   "source": [
    "def rotate_array(array, k):\n",
    "    n = len(array)\n",
    "    k %= n  # Ensure k is within the range of array length\n",
    "    return array[-k:] + array[:-k]\n",
    "\n",
    "# Example usage\n",
    "rotated_array = rotate_array(weighted_array, 3)\n",
    "print(rotated_array)\n"
   ]
  },
  {
   "cell_type": "code",
   "execution_count": null,
   "metadata": {},
   "outputs": [],
   "source": []
  },
  {
   "cell_type": "code",
   "execution_count": null,
   "metadata": {},
   "outputs": [],
   "source": []
  }
 ],
 "metadata": {
  "kernelspec": {
   "display_name": "Python 3",
   "language": "python",
   "name": "python3"
  },
  "language_info": {
   "codemirror_mode": {
    "name": "ipython",
    "version": 3
   },
   "file_extension": ".py",
   "mimetype": "text/x-python",
   "name": "python",
   "nbconvert_exporter": "python",
   "pygments_lexer": "ipython3",
   "version": "3.12.3"
  }
 },
 "nbformat": 4,
 "nbformat_minor": 2
}
